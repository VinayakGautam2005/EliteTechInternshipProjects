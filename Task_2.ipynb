{
 "cells": [
  {
   "cell_type": "code",
   "id": "initial_id",
   "metadata": {
    "collapsed": true,
    "ExecuteTime": {
     "end_time": "2025-08-05T11:53:14.341285Z",
     "start_time": "2025-08-05T11:53:14.336752Z"
    }
   },
   "source": [
    "from reportlab.lib.pagesizes import landscape, letter\n",
    "from reportlab.platypus import SimpleDocTemplate, Table, TableStyle, Paragraph, Spacer\n",
    "from reportlab.lib.styles import getSampleStyleSheet\n",
    "from reportlab.lib import colors\n",
    "import pandas as pd"
   ],
   "outputs": [],
   "execution_count": 76
  },
  {
   "metadata": {
    "ExecuteTime": {
     "end_time": "2025-08-05T11:53:14.357660Z",
     "start_time": "2025-08-05T11:53:14.353998Z"
    }
   },
   "cell_type": "code",
   "source": [
    "def split_list(lst, n):\n",
    "    \"\"\"Split list `lst` into chunks of length `n`.\"\"\"\n",
    "    for i in range(0, len(lst), n):\n",
    "        yield lst[i:i + n]"
   ],
   "id": "b82643500e81cf9b",
   "outputs": [],
   "execution_count": 77
  },
  {
   "metadata": {
    "ExecuteTime": {
     "end_time": "2025-08-05T11:53:14.377761Z",
     "start_time": "2025-08-05T11:53:14.370329Z"
    }
   },
   "cell_type": "code",
   "source": [
    "def generate_multi_table_pdf(data_file, output_pdf, max_cols_per_table=7):\n",
    "    df = pd.read_csv(data_file)\n",
    "    doc = SimpleDocTemplate(output_pdf, pagesize=landscape(letter))\n",
    "    styles = getSampleStyleSheet()\n",
    "    elements = list()\n",
    "\n",
    "    elements.append(Paragraph(\"Automated Data Report\", styles['Title']))\n",
    "    elements.append(Spacer(1, 12))\n",
    "\n",
    "    summary_text = df.describe().to_string()\n",
    "    elements.append(Paragraph(\"Data Summary\", styles['Heading2']))\n",
    "    elements.append(Paragraph(summary_text.replace(\"\\n\", \"<br />\"), styles['BodyText']))\n",
    "    elements.append(Spacer(1, 12))\n",
    "\n",
    "    cols = df.columns.tolist()\n",
    "    total_cols = len(cols)\n",
    "\n",
    "    # Split columns into chunks to avoid overcrowding\n",
    "    for col_chunk in split_list(cols, max_cols_per_table):\n",
    "        # Prepare table header and data for this chunk\n",
    "        table_data = [col_chunk] + df[col_chunk].astype(str).values.tolist()\n",
    "\n",
    "        # Calculate column widths dynamically\n",
    "        usable_width = landscape(letter)[0] - 2 * doc.leftMargin\n",
    "        col_width = usable_width / len(col_chunk)\n",
    "        col_widths = [col_width] * len(col_chunk)\n",
    "\n",
    "        table = Table(table_data, colWidths=col_widths, repeatRows=1)\n",
    "\n",
    "        style = TableStyle([\n",
    "            ('BACKGROUND', (0, 0), (-1, 0), colors.grey),\n",
    "            ('TEXTCOLOR', (0, 0), (-1, 0), colors.whitesmoke),\n",
    "            ('ALIGN', (0, 0), (-1, -1), 'CENTER'),\n",
    "            ('FONTNAME', (0, 0), (-1, 0), 'Helvetica-Bold'),\n",
    "            ('FONTSIZE', (0, 0), (-1, 0), 10),\n",
    "            ('BOTTOMPADDING', (0, 0), (-1, 0), 6),\n",
    "            ('BACKGROUND', (0, 1), (-1, -1), colors.beige),\n",
    "            ('GRID', (0, 0), (-1, -1), 0.5, colors.black),\n",
    "        ])\n",
    "\n",
    "        table.setStyle(style)\n",
    "        elements.append(table)\n",
    "        elements.append(Spacer(1, 20))  # Space between tables\n",
    "\n",
    "    doc.build(elements)\n",
    "    print(f\"Report generated and saved as {output_pdf}\")"
   ],
   "id": "3a2259ee87b2bfcf",
   "outputs": [],
   "execution_count": 78
  },
  {
   "metadata": {
    "ExecuteTime": {
     "end_time": "2025-08-05T11:53:14.966740Z",
     "start_time": "2025-08-05T11:53:14.391756Z"
    }
   },
   "cell_type": "code",
   "source": [
    "if __name__ == \"__main__\":\n",
    "    generate_multi_table_pdf(\"sample.csv\", \"report.pdf\")"
   ],
   "id": "84b738b9f8380946",
   "outputs": [
    {
     "name": "stdout",
     "output_type": "stream",
     "text": [
      "Report generated and saved as report.pdf\n"
     ]
    }
   ],
   "execution_count": 79
  }
 ],
 "metadata": {
  "kernelspec": {
   "display_name": "Python 3",
   "language": "python",
   "name": "python3"
  },
  "language_info": {
   "codemirror_mode": {
    "name": "ipython",
    "version": 2
   },
   "file_extension": ".py",
   "mimetype": "text/x-python",
   "name": "python",
   "nbconvert_exporter": "python",
   "pygments_lexer": "ipython2",
   "version": "2.7.6"
  }
 },
 "nbformat": 4,
 "nbformat_minor": 5
}
